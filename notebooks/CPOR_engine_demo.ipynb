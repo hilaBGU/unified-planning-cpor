{
 "cells": [
  {
   "cell_type": "code",
   "execution_count": 1,
   "metadata": {
    "id": "x-vPi8y9ce2y"
   },
   "outputs": [],
   "source": [
    "# begin of installation"
   ]
  },
  {
   "cell_type": "code",
   "execution_count": 2,
   "outputs": [
    {
     "name": "stdout",
     "output_type": "stream",
     "text": [
      "Requirement already satisfied: pythonnet in c:\\users\\hilak\\anaconda3\\envs\\unified-planning\\lib\\site-packages (3.0.0rc4)\n",
      "Requirement already satisfied: clr-loader>=0.1.7 in c:\\users\\hilak\\anaconda3\\envs\\unified-planning\\lib\\site-packages (from pythonnet) (0.1.7)\n",
      "Requirement already satisfied: cffi>=1.13 in c:\\users\\hilak\\anaconda3\\envs\\unified-planning\\lib\\site-packages (from clr-loader>=0.1.7->pythonnet) (1.15.1)\n",
      "Requirement already satisfied: pycparser in c:\\users\\hilak\\anaconda3\\envs\\unified-planning\\lib\\site-packages (from cffi>=1.13->clr-loader>=0.1.7->pythonnet) (2.21)\n"
     ]
    }
   ],
   "source": [
    "!pip install pythonnet"
   ],
   "metadata": {
    "collapsed": false,
    "pycharm": {
     "name": "#%%\n"
    }
   }
  },
  {
   "cell_type": "code",
   "execution_count": 3,
   "metadata": {
    "id": "v84O-Z0zcrrX"
   },
   "outputs": [],
   "source": [
    "# end of installation"
   ]
  },
  {
   "cell_type": "markdown",
   "source": [
    "### Unified Planning imports ###"
   ],
   "metadata": {
    "collapsed": false
   }
  },
  {
   "cell_type": "code",
   "execution_count": 4,
   "outputs": [],
   "source": [
    "from unified_planning.io import PDDLReader\n",
    "from unified_planning.model import FNode, OperatorKind, Fluent, Effect, SensingAction\n",
    "from unified_planning.engines import Credits\n",
    "import unified_planning.engines as engines\n",
    "import unified_planning.environment as environment\n",
    "from unified_planning.plans import ActionInstance, ContingentPlan, ContingentPlanNode\n",
    "from unified_planning.model import ProblemKind, ContingentProblem\n",
    "from unified_planning.engines.results import PlanGenerationResultStatus, PlanGenerationResult\n",
    "from unified_planning.engines.mixins.compiler import CompilationKind\n",
    "from typing import Optional"
   ],
   "metadata": {
    "collapsed": false,
    "pycharm": {
     "name": "#%%\n"
    }
   }
  },
  {
   "cell_type": "markdown",
   "source": [
    "### pythonNet and c# imports ###\n"
   ],
   "metadata": {
    "collapsed": false
   }
  },
  {
   "cell_type": "code",
   "execution_count": 5,
   "outputs": [],
   "source": [
    "import clr\n",
    "clr.AddReference('CPORLib')\n",
    "\n",
    "from CPORLib.PlanningModel import Domain, Problem, ParametrizedAction, PlanningAction\n",
    "from CPORLib.LogicalUtilities import Predicate, ParametrizedPredicate, GroundedPredicate, PredicateFormula, CompoundFormula, Formula\n",
    "from CPORLib.Algorithms import CPORPlanner"
   ],
   "metadata": {
    "collapsed": false,
    "pycharm": {
     "name": "#%%\n"
    }
   }
  },
  {
   "cell_type": "markdown",
   "source": [
    "### credits"
   ],
   "metadata": {
    "collapsed": false
   }
  },
  {
   "cell_type": "code",
   "execution_count": 6,
   "outputs": [],
   "source": [
    "# credits = Credits('CPOR planner',\n",
    "#                   'BGU',\n",
    "#                   'Guy Shani',\n",
    "#                   'https://github.com/???',\n",
    "#                   'Version 1',\n",
    "#                   'CPOR planner is a lightweight STRIPS planner written in c#.',\n",
    "#                   'CPOR planner is a lightweight STRIPS planner written in c#.\\nPlease note that CPOR planner deliberately prefers clean code over fast code. It is designed to be used as a teaching or prototyping tool. If you use it for paper experiments, please state clearly that CPOR planner does not offer state-of-the-art performance.'\n",
    "#                 )"
   ],
   "metadata": {
    "collapsed": false,
    "pycharm": {
     "name": "#%%\n"
    }
   }
  },
  {
   "cell_type": "markdown",
   "source": [
    "## Engine implementation"
   ],
   "metadata": {
    "collapsed": false
   }
  },
  {
   "cell_type": "code",
   "execution_count": 7,
   "metadata": {
    "id": "01nDJbkoVZU1"
   },
   "outputs": [],
   "source": [
    "class CPORImpl(engines.Engine):\n",
    "    def __init__(self, bOnline = False, **options):\n",
    "        self.bOnline = bOnline\n",
    "        self._skip_checks = False\n",
    "\n",
    "    @property\n",
    "    def name(self) -> str:\n",
    "        return \"CPORPlanning\"\n",
    "\n",
    "    @staticmethod\n",
    "    def supports_compilation(compilation_kind: CompilationKind) -> bool:\n",
    "        return compilation_kind == CompilationKind.GROUNDING\n",
    "\n",
    "    @staticmethod\n",
    "    def supported_kind():\n",
    "        # Ask what more need to be added\n",
    "        supported_kind = ProblemKind()\n",
    "        supported_kind.set_problem_class('CONTINGENT')\n",
    "        supported_kind.set_problem_class(\"ACTION_BASED\")\n",
    "        supported_kind.set_typing('FLAT_TYPING')\n",
    "        supported_kind.set_typing('HIERARCHICAL_TYPING')\n",
    "        return supported_kind\n",
    "\n",
    "    @staticmethod\n",
    "    def supports(problem_kind):\n",
    "        return problem_kind <= CPORImpl.supported_kind()\n",
    "\n",
    "    def solve(self, problem: 'up.model.ContingentProblem') -> 'up.engines.results.PlanGenerationResult':\n",
    "\n",
    "        if not self.supports(problem.kind):\n",
    "            return PlanGenerationResult(PlanGenerationResultStatus.UNSOLVABLE_PROVEN, None, self.name)\n",
    "\n",
    "        c_domain = self.__createDomain(problem)\n",
    "        c_problem = self.__createProblem(problem, c_domain)\n",
    "\n",
    "        solution = self.__createPlan(c_domain, c_problem)\n",
    "        actions = self.__createActionTree(solution, problem)\n",
    "        if solution is None or actions is None:\n",
    "            return PlanGenerationResult(PlanGenerationResultStatus.UNSOLVABLE_PROVEN, None, self.name)\n",
    "\n",
    "        return PlanGenerationResult(PlanGenerationResultStatus.SOLVED_SATISFICING, ContingentPlan(actions), self.name)\n",
    "\n",
    "    def destroy(self):\n",
    "        pass\n",
    "\n",
    "    def __createProblem(self, problem, domain):\n",
    "        p = Problem(problem.name, domain)\n",
    "\n",
    "        for f, v in problem.initial_values.items():\n",
    "            if v.is_true():\n",
    "                gp = self.__CreatePredicate(f, False, None)\n",
    "                p.AddKnown(gp)\n",
    "\n",
    "        for c in problem.or_constraints:\n",
    "            cf = self.__CreateOrFormula(c, [])\n",
    "            p.AddHidden(cf)\n",
    "\n",
    "        for c in problem.oneof_constraints:\n",
    "            cf = self.__CreateOneOfFormula(c, [])\n",
    "            p.AddHidden(cf)\n",
    "\n",
    "        goal = CompoundFormula(\"and\")\n",
    "        for g in problem.goals:\n",
    "            cp = self.__CreateFormula(g, [])\n",
    "            goal.AddOperand(cp)\n",
    "        p.Goal = goal.Simplify()\n",
    "\n",
    "        return p\n",
    "\n",
    "    def __createPlan(self, c_domain, c_problem):\n",
    "        solver = CPORPlanner(c_domain, c_problem)\n",
    "        c_plan = solver.OfflinePlanning()\n",
    "        # handle errors in c# code - null?\n",
    "        solver.WritePlan(\"plan.dot\", c_plan)\n",
    "        return c_plan\n",
    "\n",
    "    def __createDomain(self, problem):\n",
    "        d = Domain(problem.name)\n",
    "        for t in problem.user_types:\n",
    "            if t.father is None:\n",
    "                d.AddType(t.name)\n",
    "            else:\n",
    "                d.AddType(t.name, t.father.name)\n",
    "\n",
    "        for o in problem.all_objects:\n",
    "            d.AddConstant(o.name, o.type.name)\n",
    "\n",
    "        for f in problem.fluents:\n",
    "            pp = self.__CreatePredicate(f, True, [])\n",
    "            d.AddPredicate(pp)\n",
    "\n",
    "        for a in problem.actions:\n",
    "            l = []\n",
    "            pa = ParametrizedAction(a.name)\n",
    "            for param in a.parameters:\n",
    "                l.append(param.name)\n",
    "                pa.AddParameter(param.name, param.type.name)\n",
    "            if not a.preconditions is None:\n",
    "                for pre in a.preconditions:\n",
    "                    formula = self.__CreateFormula(pre, l)\n",
    "                    pa.Preconditions = formula\n",
    "            if not a.effects is None and len(a.effects) > 0:\n",
    "                cp = CompoundFormula(\"and\")\n",
    "                for eff in a.effects:\n",
    "                    pp = self.__CreatePredicate(eff, False, l)\n",
    "                    cp.SimpleAddOperand(pp)\n",
    "                pa.Effects = cp\n",
    "            if type(a) is SensingAction:\n",
    "                if not a.observed_fluents is None:\n",
    "                    for o in a.observed_fluents:\n",
    "                        pf = self.__CreateFormula(o, l)\n",
    "                        pa.Observe = pf\n",
    "\n",
    "            d.AddAction(pa)\n",
    "        return d\n",
    "\n",
    "    def __CreatePredicate(self, f, bAllParameters, lActionParameters) -> ParametrizedPredicate:\n",
    "        if type(f) is Fluent:\n",
    "            if (not bAllParameters) and (lActionParameters is None or len(lActionParameters) == 0):\n",
    "                pp = GroundedPredicate(f.name)\n",
    "            else:\n",
    "                pp = ParametrizedPredicate(f.name)\n",
    "            for param in f.signature:\n",
    "                bParam = bAllParameters or (param.name in lActionParameters)\n",
    "                if bParam:\n",
    "                    pp.AddParameter(param.name, param.type.name)\n",
    "                else:\n",
    "                    pp.AddConstant(param.name, param.type.name)\n",
    "            return pp\n",
    "        if type(f) is Effect:\n",
    "            pp = self.__CreatePredicate(f.fluent, bAllParameters, lActionParameters)\n",
    "            if str(f.value) == \"false\":\n",
    "                pp.Negation = True\n",
    "            return pp\n",
    "        if type(f) is FNode:\n",
    "            if (not bAllParameters) and (lActionParameters is None or len(lActionParameters) == 0):\n",
    "                pp = GroundedPredicate(f.fluent().name)\n",
    "            else:\n",
    "                pp = ParametrizedPredicate(f.fluent().name)\n",
    "            for arg in f.args:\n",
    "                if arg.is_parameter_exp():\n",
    "                    param = arg.parameter()\n",
    "                    pp.AddParameter(param.name, param.type.name)\n",
    "                if arg.is_object_exp():\n",
    "                    obj = arg.object()\n",
    "                    pp.AddConstant(obj.name, obj.type.name)\n",
    "            return pp\n",
    "\n",
    "    def __CreateFormula(self, n: FNode, lActionParameters) -> Formula:\n",
    "        if n.node_type == OperatorKind.FLUENT_EXP:\n",
    "            pp = self.__CreatePredicate(n, False, lActionParameters)\n",
    "            pf = PredicateFormula(pp)\n",
    "            return pf\n",
    "        else:\n",
    "            if n.node_type == OperatorKind.AND:\n",
    "                cp = CompoundFormula(\"and\")\n",
    "            elif n.node_type == OperatorKind.OR:\n",
    "                cp = CompoundFormula(\"or\")\n",
    "            elif n.node_type == OperatorKind.NOT:\n",
    "                cp = self.__CreateFormula(n.args[0], lActionParameters)\n",
    "                cp = cp.Negate()\n",
    "                return cp\n",
    "            else:\n",
    "                cp = CompoundFormula(\"oneof\")\n",
    "\n",
    "            for nSub in n.args:\n",
    "                fSub = self.__CreateFormula(nSub, lActionParameters)\n",
    "                cp.SimpleAddOperand(fSub)\n",
    "            return cp\n",
    "\n",
    "    def __CreateOrFormula(self, n, lActionParameters) -> Formula:\n",
    "        cp = CompoundFormula(\"or\")\n",
    "        for nSub in n:\n",
    "            fSub = self.__CreateFormula(nSub, lActionParameters)\n",
    "            cp.SimpleAddOperand(fSub)\n",
    "        return cp\n",
    "\n",
    "    def __CreateOneOfFormula(self, n, lActionParameters) -> Formula:\n",
    "        cp = CompoundFormula(\"oneof\")\n",
    "        for nSub in n:\n",
    "            fSub = self.__CreateFormula(nSub, lActionParameters)\n",
    "            cp.SimpleAddOperand(fSub)\n",
    "        return cp\n",
    "\n",
    "    def __createActionTree(self, solution, problem) -> ContingentPlanNode:\n",
    "        ai = self.__convert_string_to_action_instance(str(solution.Action), problem)\n",
    "        if ai:\n",
    "            root = ContingentPlanNode(ai)\n",
    "            if solution.SingleChild:\n",
    "                root.add_singleChild(self.__createActionTree(solution.SingleChild, problem))\n",
    "            if solution.FalseObservationChild:\n",
    "                root.add_falseObservationChild(self.__createActionTree(solution.FalseObservationChild, problem))\n",
    "            if solution.TrueObservationChild:\n",
    "                root.add_trueObservationChild(self.__createActionTree(solution.TrueObservationChild, problem))\n",
    "            return root\n",
    "\n",
    "    def __convert_string_to_action_instance(self, string, problem) -> 'up.plans.InstantaneousAction':\n",
    "        if string != 'None':\n",
    "            assert string[0] == \"(\" and string[-1] == \")\"\n",
    "            list_str = string[1:-1].replace(\":\",\"\").replace('~',' ').split(\"\\n\")\n",
    "            ac = list_str[0].split(\" \")\n",
    "            action = problem.action(ac[1])\n",
    "            expr_manager = problem.env.expression_manager\n",
    "            param = tuple(expr_manager.ObjectExp(problem.object(o_name)) for o_name in ac[2:])\n",
    "            return ActionInstance(action, param)"
   ]
  },
  {
   "cell_type": "markdown",
   "metadata": {
    "id": "-fFY3Q3mZo4P"
   },
   "source": [
    "Congratulations! You just created an integrated planning engine for the `Oneshot` operation mode! Of course, in a more realistic scenario, one would need to read the `problem` object and call an external engine or provide a more involved algorithm to provide the service, but this is already sufficient for testing out our simple engine."
   ]
  },
  {
   "cell_type": "markdown",
   "metadata": {
    "id": "1xp1How6aClP"
   },
   "source": [
    "## Registering the engine\n",
    "\n",
    "In order to use our `CPORPlanning`, we need to register it among the set of planning engines available for the UP library as follows."
   ]
  },
  {
   "cell_type": "code",
   "execution_count": 8,
   "metadata": {
    "id": "nY1d3eK7amBP"
   },
   "outputs": [],
   "source": [
    "env = environment.get_env()\n",
    "env.factory.add_engine('CPORPlanning', __name__, 'CPORImpl')"
   ]
  },
  {
   "cell_type": "markdown",
   "metadata": {
    "id": "kGhQuSjTanEM"
   },
   "source": [
    "Essentially, we just need to give a custom name (in our case `CPORPlanning`) a module name (in this case, `__name__` as we are in the same file as the Solver class) and finally the class name that we used to define our planning engine.\n",
    "\n",
    "Done! We are nor ready to test our planning engine!"
   ]
  },
  {
   "cell_type": "markdown",
   "metadata": {
    "id": "f5IWceEGa_YA"
   },
   "source": [
    "## Testing the engine\n",
    "\n",
    "We start by defining a simple problem in the UP syntax (alternatively we can use a parser or any other way to create a problem obejct)"
   ]
  },
  {
   "cell_type": "code",
   "execution_count": 9,
   "outputs": [],
   "source": [
    "# Creating a PDDL reader\n",
    "reader = PDDLReader()\n",
    "\n",
    "# Parsing a PDDL problem from file\n",
    "problem = reader.parse_problem(\n",
    "    \"../unified_planning/test/pddl/wumpus/domain.pddl\",\n",
    "    \"../unified_planning/test/pddl/wumpus/problem.pddl\",\n",
    ")"
   ],
   "metadata": {
    "collapsed": false,
    "pycharm": {
     "name": "#%%\n"
    }
   }
  },
  {
   "cell_type": "code",
   "execution_count": 10,
   "outputs": [],
   "source": [
    "def print_plan(p_planNode, moves):\n",
    "    if p_planNode is not None:\n",
    "        x = p_planNode\n",
    "        moves.append(x.action_instance)\n",
    "        if x.singleChild is not None:\n",
    "            moves.append(print_plan(x.singleChild, moves))\n",
    "        elif x.trueObservationChild is not None:\n",
    "            moves.append(print_plan(x.trueObservationChild, moves))\n",
    "        elif x.falseObservationChild is not None:\n",
    "            moves.append(print_plan(x.falseObservationChild, moves))\n",
    "    return moves"
   ],
   "metadata": {
    "collapsed": false,
    "pycharm": {
     "name": "#%%\n"
    }
   }
  },
  {
   "cell_type": "code",
   "execution_count": 11,
   "metadata": {
    "id": "UVWTD-akbQ-P",
    "pycharm": {
     "name": "#%%\n"
    }
   },
   "outputs": [
    {
     "name": "stdout",
     "output_type": "stream",
     "text": [
      "CPORPlanning found a valid plan!\n",
      "The plan is: [move(p1-1, p1-2), move(p1-2, p1-3), feel-breeze(p1-3), [...], [...]]\n"
     ]
    }
   ],
   "source": [
    "with env.factory.Replanner(problem, name='CPORPlanning') as planner:\n",
    "    result = planner.solve(problem)\n",
    "    if result.status == PlanGenerationResultStatus.SOLVED_SATISFICING:\n",
    "        print(f'{planner.name} found a valid plan!')\n",
    "        print(f'The plan is: {print_plan(result.plan.root_node, [])}')\n",
    "    else:\n",
    "        print('No plan found!')"
   ]
  },
  {
   "cell_type": "markdown",
   "source": [
    "Notes:\n",
    "-Original way that ContingentPlanNode was built -> maybe need to do it that way?\n",
    "-What is happening when the c# code fails? -> need to fix it -\n",
    "-Fix the support condition - now it just return UNSOLVABLE_PROVEN - shuold be what the other engine returns.\n",
    "-Need to add comments and change to meaningful names\n",
    "-2 other problems"
   ],
   "metadata": {
    "collapsed": false,
    "pycharm": {
     "name": "#%% md\n"
    }
   }
  }
 ],
 "metadata": {
  "colab": {
   "collapsed_sections": [],
   "name": "Planning Engine Demo.ipynb",
   "provenance": []
  },
  "kernelspec": {
   "display_name": "Python 3",
   "language": "python",
   "name": "python3"
  },
  "language_info": {
   "codemirror_mode": {
    "name": "ipython",
    "version": 3
   },
   "file_extension": ".py",
   "mimetype": "text/x-python",
   "name": "python",
   "nbconvert_exporter": "python",
   "pygments_lexer": "ipython3",
   "version": "3.8.10"
  }
 },
 "nbformat": 4,
 "nbformat_minor": 1
}